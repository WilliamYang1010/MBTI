{
 "cells": [
  {
   "cell_type": "code",
   "execution_count": 1,
   "metadata": {
    "collapsed": true
   },
   "outputs": [
    {
     "data": {
      "text/plain": "     type  is_E  is_N  is_F  is_J  \\\n0    INFP     0     1     1     0   \n1    INFP     0     1     1     0   \n2    INFP     0     1     1     0   \n3    INFP     0     1     1     0   \n4    INFP     0     1     1     0   \n..    ...   ...   ...   ...   ...   \n619  ENFJ     1     1     1     1   \n620  ENFJ     1     1     1     1   \n621  ENFJ     1     1     1     1   \n622  ENFJ     1     1     1     1   \n623  ENFJ     1     1     1     1   \n\n                                                 posts  \\\n0    'probably chiming in real late, but if he's an...   \n1    'I really like the way you put that. It makes ...   \n2    'I thought this article was very enlightening....   \n3    'I am an INFP and that sounds way too stereoty...   \n4    'I don't really relate to most of it, to be ho...   \n..                                                 ...   \n619  'Hey all! Jeez I'm still having laptop issues!...   \n620  'One of my biggest turn-off's and I think its ...   \n621  'Dear Universe,  We had a fight last night.  B...   \n622  'Hm, I think it's been a bit too long since I ...   \n623  'I would try just boosting your guitar just th...   \n\n                                                cleans  com_stmt  pos_stmt  \\\n0    probabl chime real late enfp least much extrov...    0.9994     0.161   \n1    realli like way put make lot sens especi drama...    0.9918     0.116   \n2    thought articl veri enlighten basic assert nat...    0.9998     0.201   \n3    infp sound way stereotyp becom want without ne...    0.9998     0.186   \n4    realli relat honest sensit sound realli realli...    0.9996     0.140   \n..                                                 ...       ...       ...   \n619  hey jeez still laptop issu jawz alway prefer n...    0.9996     0.172   \n620  one biggest turn think enfj thing exclud peopl...    0.9999     0.212   \n621  dear univers fight last night think communic p...    0.9997     0.202   \n622  hm think bit long sinc first saw seri recal ge...    0.9999     0.227   \n623  would tri boost guitar wedg rather loud speake...    0.9995     0.170   \n\n     neg_stmt  ...  xd  ya  yep  yesterday  yet  young  younger  youtub  yup  \\\n0       0.098  ...   0   0    0          1    0      1        0       0    0   \n1       0.094  ...   0   0    0          1    2      0        0       1    0   \n2       0.077  ...   0   0    1          0    1      0        0       1    0   \n3       0.065  ...   0   0    0          1    0      0        2       0    0   \n4       0.051  ...   0   0    0          0    0      1        0       0    0   \n..        ...  ...  ..  ..  ...        ...  ...    ...      ...     ...  ...   \n619     0.079  ...   0   0    1          0    0      0        1       0    0   \n620     0.058  ...   0   0    0          0    0      0        0       0    1   \n621     0.097  ...   0   0    0          0    0      0        0       0    0   \n622     0.069  ...   0   0    0          0    1      0        0       0    0   \n623     0.091  ...   0   1    0          0    0      0        0       0    0   \n\n     zone  \n0       0  \n1       0  \n2       0  \n3       0  \n4       0  \n..    ...  \n619     0  \n620     0  \n621     0  \n622     0  \n623     0  \n\n[624 rows x 1543 columns]",
      "text/html": "<div>\n<style scoped>\n    .dataframe tbody tr th:only-of-type {\n        vertical-align: middle;\n    }\n\n    .dataframe tbody tr th {\n        vertical-align: top;\n    }\n\n    .dataframe thead th {\n        text-align: right;\n    }\n</style>\n<table border=\"1\" class=\"dataframe\">\n  <thead>\n    <tr style=\"text-align: right;\">\n      <th></th>\n      <th>type</th>\n      <th>is_E</th>\n      <th>is_N</th>\n      <th>is_F</th>\n      <th>is_J</th>\n      <th>posts</th>\n      <th>cleans</th>\n      <th>com_stmt</th>\n      <th>pos_stmt</th>\n      <th>neg_stmt</th>\n      <th>...</th>\n      <th>xd</th>\n      <th>ya</th>\n      <th>yep</th>\n      <th>yesterday</th>\n      <th>yet</th>\n      <th>young</th>\n      <th>younger</th>\n      <th>youtub</th>\n      <th>yup</th>\n      <th>zone</th>\n    </tr>\n  </thead>\n  <tbody>\n    <tr>\n      <th>0</th>\n      <td>INFP</td>\n      <td>0</td>\n      <td>1</td>\n      <td>1</td>\n      <td>0</td>\n      <td>'probably chiming in real late, but if he's an...</td>\n      <td>probabl chime real late enfp least much extrov...</td>\n      <td>0.9994</td>\n      <td>0.161</td>\n      <td>0.098</td>\n      <td>...</td>\n      <td>0</td>\n      <td>0</td>\n      <td>0</td>\n      <td>1</td>\n      <td>0</td>\n      <td>1</td>\n      <td>0</td>\n      <td>0</td>\n      <td>0</td>\n      <td>0</td>\n    </tr>\n    <tr>\n      <th>1</th>\n      <td>INFP</td>\n      <td>0</td>\n      <td>1</td>\n      <td>1</td>\n      <td>0</td>\n      <td>'I really like the way you put that. It makes ...</td>\n      <td>realli like way put make lot sens especi drama...</td>\n      <td>0.9918</td>\n      <td>0.116</td>\n      <td>0.094</td>\n      <td>...</td>\n      <td>0</td>\n      <td>0</td>\n      <td>0</td>\n      <td>1</td>\n      <td>2</td>\n      <td>0</td>\n      <td>0</td>\n      <td>1</td>\n      <td>0</td>\n      <td>0</td>\n    </tr>\n    <tr>\n      <th>2</th>\n      <td>INFP</td>\n      <td>0</td>\n      <td>1</td>\n      <td>1</td>\n      <td>0</td>\n      <td>'I thought this article was very enlightening....</td>\n      <td>thought articl veri enlighten basic assert nat...</td>\n      <td>0.9998</td>\n      <td>0.201</td>\n      <td>0.077</td>\n      <td>...</td>\n      <td>0</td>\n      <td>0</td>\n      <td>1</td>\n      <td>0</td>\n      <td>1</td>\n      <td>0</td>\n      <td>0</td>\n      <td>1</td>\n      <td>0</td>\n      <td>0</td>\n    </tr>\n    <tr>\n      <th>3</th>\n      <td>INFP</td>\n      <td>0</td>\n      <td>1</td>\n      <td>1</td>\n      <td>0</td>\n      <td>'I am an INFP and that sounds way too stereoty...</td>\n      <td>infp sound way stereotyp becom want without ne...</td>\n      <td>0.9998</td>\n      <td>0.186</td>\n      <td>0.065</td>\n      <td>...</td>\n      <td>0</td>\n      <td>0</td>\n      <td>0</td>\n      <td>1</td>\n      <td>0</td>\n      <td>0</td>\n      <td>2</td>\n      <td>0</td>\n      <td>0</td>\n      <td>0</td>\n    </tr>\n    <tr>\n      <th>4</th>\n      <td>INFP</td>\n      <td>0</td>\n      <td>1</td>\n      <td>1</td>\n      <td>0</td>\n      <td>'I don't really relate to most of it, to be ho...</td>\n      <td>realli relat honest sensit sound realli realli...</td>\n      <td>0.9996</td>\n      <td>0.140</td>\n      <td>0.051</td>\n      <td>...</td>\n      <td>0</td>\n      <td>0</td>\n      <td>0</td>\n      <td>0</td>\n      <td>0</td>\n      <td>1</td>\n      <td>0</td>\n      <td>0</td>\n      <td>0</td>\n      <td>0</td>\n    </tr>\n    <tr>\n      <th>...</th>\n      <td>...</td>\n      <td>...</td>\n      <td>...</td>\n      <td>...</td>\n      <td>...</td>\n      <td>...</td>\n      <td>...</td>\n      <td>...</td>\n      <td>...</td>\n      <td>...</td>\n      <td>...</td>\n      <td>...</td>\n      <td>...</td>\n      <td>...</td>\n      <td>...</td>\n      <td>...</td>\n      <td>...</td>\n      <td>...</td>\n      <td>...</td>\n      <td>...</td>\n      <td>...</td>\n    </tr>\n    <tr>\n      <th>619</th>\n      <td>ENFJ</td>\n      <td>1</td>\n      <td>1</td>\n      <td>1</td>\n      <td>1</td>\n      <td>'Hey all! Jeez I'm still having laptop issues!...</td>\n      <td>hey jeez still laptop issu jawz alway prefer n...</td>\n      <td>0.9996</td>\n      <td>0.172</td>\n      <td>0.079</td>\n      <td>...</td>\n      <td>0</td>\n      <td>0</td>\n      <td>1</td>\n      <td>0</td>\n      <td>0</td>\n      <td>0</td>\n      <td>1</td>\n      <td>0</td>\n      <td>0</td>\n      <td>0</td>\n    </tr>\n    <tr>\n      <th>620</th>\n      <td>ENFJ</td>\n      <td>1</td>\n      <td>1</td>\n      <td>1</td>\n      <td>1</td>\n      <td>'One of my biggest turn-off's and I think its ...</td>\n      <td>one biggest turn think enfj thing exclud peopl...</td>\n      <td>0.9999</td>\n      <td>0.212</td>\n      <td>0.058</td>\n      <td>...</td>\n      <td>0</td>\n      <td>0</td>\n      <td>0</td>\n      <td>0</td>\n      <td>0</td>\n      <td>0</td>\n      <td>0</td>\n      <td>0</td>\n      <td>1</td>\n      <td>0</td>\n    </tr>\n    <tr>\n      <th>621</th>\n      <td>ENFJ</td>\n      <td>1</td>\n      <td>1</td>\n      <td>1</td>\n      <td>1</td>\n      <td>'Dear Universe,  We had a fight last night.  B...</td>\n      <td>dear univers fight last night think communic p...</td>\n      <td>0.9997</td>\n      <td>0.202</td>\n      <td>0.097</td>\n      <td>...</td>\n      <td>0</td>\n      <td>0</td>\n      <td>0</td>\n      <td>0</td>\n      <td>0</td>\n      <td>0</td>\n      <td>0</td>\n      <td>0</td>\n      <td>0</td>\n      <td>0</td>\n    </tr>\n    <tr>\n      <th>622</th>\n      <td>ENFJ</td>\n      <td>1</td>\n      <td>1</td>\n      <td>1</td>\n      <td>1</td>\n      <td>'Hm, I think it's been a bit too long since I ...</td>\n      <td>hm think bit long sinc first saw seri recal ge...</td>\n      <td>0.9999</td>\n      <td>0.227</td>\n      <td>0.069</td>\n      <td>...</td>\n      <td>0</td>\n      <td>0</td>\n      <td>0</td>\n      <td>0</td>\n      <td>1</td>\n      <td>0</td>\n      <td>0</td>\n      <td>0</td>\n      <td>0</td>\n      <td>0</td>\n    </tr>\n    <tr>\n      <th>623</th>\n      <td>ENFJ</td>\n      <td>1</td>\n      <td>1</td>\n      <td>1</td>\n      <td>1</td>\n      <td>'I would try just boosting your guitar just th...</td>\n      <td>would tri boost guitar wedg rather loud speake...</td>\n      <td>0.9995</td>\n      <td>0.170</td>\n      <td>0.091</td>\n      <td>...</td>\n      <td>0</td>\n      <td>1</td>\n      <td>0</td>\n      <td>0</td>\n      <td>0</td>\n      <td>0</td>\n      <td>0</td>\n      <td>0</td>\n      <td>0</td>\n      <td>0</td>\n    </tr>\n  </tbody>\n</table>\n<p>624 rows × 1543 columns</p>\n</div>"
     },
     "execution_count": 1,
     "metadata": {},
     "output_type": "execute_result"
    }
   ],
   "source": [
    "import numpy as np\n",
    "import pandas as pd\n",
    "import statsmodels.formula.api as smf\n",
    "import matplotlib.pyplot as plt\n",
    "from sklearn.model_selection import GridSearchCV, KFold\n",
    "from sklearn.tree import DecisionTreeRegressor, DecisionTreeClassifier, plot_tree\n",
    "from sklearn.metrics import confusion_matrix\n",
    "from sklearn.metrics import classification_report\n",
    "from sklearn.linear_model import LogisticRegression\n",
    "from sklearn.model_selection import train_test_split\n",
    "from sklearn.svm import SVC,LinearSVC\n",
    "from sklearn.ensemble import RandomForestClassifier,GradientBoostingClassifier\n",
    "from xgboost import XGBClassifier\n",
    "import matplotlib.pyplot as plt\n",
    "import seaborn as sns\n",
    "from sklearn.metrics import accuracy_score\n",
    "import warnings\n",
    "warnings.filterwarnings(\"ignore\")\n",
    "#load dataset\n",
    "data = pd.read_csv(\"../../data/clean/mbti_4.csv\")\n",
    "data"
   ]
  },
  {
   "cell_type": "code",
   "execution_count": 3,
   "outputs": [],
   "source": [
    "#only one row contains Nan value, removed that row\n",
    "data.dropna(inplace=True)"
   ],
   "metadata": {
    "collapsed": false
   }
  },
  {
   "cell_type": "code",
   "execution_count": 6,
   "outputs": [],
   "source": [
    "#train / test split and feature / target selection\n",
    "train, test = train_test_split(data, test_size = 0.1, random_state=88, stratify=data.type)\n",
    "features = ['com_stmt', 'pos_stmt', 'neg_stmt', 'neu_stmt', 'word_count',\n",
    "            'unique_count', 'emoji_count', 'qe_mark', 'ex_mark', 'el_mark',\n",
    "            'upper_count', 'url_count', 'img_count']\n",
    "X_train, y_train = train[features], train['is_J']\n",
    "X_test, y_test = test[features], test['is_J']\n",
    "X_train_2, X_test_2 = train.iloc[:, 7:], test.iloc[:, 7:]\n",
    "# set 5Fold-Cross Validation\n",
    "cv = KFold(n_splits=5,random_state=88,shuffle=True)"
   ],
   "metadata": {
    "collapsed": false
   }
  },
  {
   "cell_type": "markdown",
   "source": [
    "# Modeling\n",
    "## 1. Logistic Regression Model\n",
    "- In the logistic regression, we choose all numerical feature to predict all four pairs of MBTI personalities, the result of last pair J/P yields a 0.46 accuracy."
   ],
   "metadata": {
    "collapsed": false
   }
  },
  {
   "cell_type": "code",
   "execution_count": 7,
   "outputs": [
    {
     "name": "stdout",
     "output_type": "stream",
     "text": [
      "Optimization terminated successfully.\n",
      "         Current function value: 0.683421\n",
      "         Iterations 6\n",
      "Logistic Regression Test Accuracy: 0.4603\n"
     ]
    }
   ],
   "source": [
    "#logistic regression\n",
    "import statsmodels.formula.api as smf\n",
    "# Fit the logistic regression model\n",
    "logreg = smf.logit(formula = 'is_J ~ com_stmt + pos_stmt + neg_stmt + neu_stmt \\\n",
    "+ word_count + unique_count + emoji_count + qe_mark + ex_mark + el_mark + \\\n",
    "upper_count + url_count + img_count', data = train).fit()\n",
    "\n",
    "y_prob = logreg.predict(test)\n",
    "y_pred = pd.Series([1 if x > 0.5 else 0 for x in y_prob], index=y_prob.index)\n",
    "\n",
    "model_logreg_acc = sum(y_pred == y_test) / len(test)#calcuate logistic accuracy accuracy\n",
    "print(f'Logistic Regression Test Accuracy: {model_logreg_acc:.4f}')"
   ],
   "metadata": {
    "collapsed": false
   }
  },
  {
   "cell_type": "code",
   "execution_count": 8,
   "outputs": [
    {
     "data": {
      "text/plain": "<class 'statsmodels.iolib.summary.Summary'>\n\"\"\"\n                           Logit Regression Results                           \n==============================================================================\nDep. Variable:                   is_J   No. Observations:                  561\nModel:                          Logit   Df Residuals:                      547\nMethod:                           MLE   Df Model:                           13\nDate:                Fri, 09 Dec 2022   Pseudo R-squ.:                 0.01403\nTime:                        14:42:02   Log-Likelihood:                -383.40\nconverged:                       True   LL-Null:                       -388.85\nCovariance Type:            nonrobust   LLR p-value:                    0.6183\n================================================================================\n                   coef    std err          z      P>|z|      [0.025      0.975]\n--------------------------------------------------------------------------------\nIntercept      -49.7347    172.034     -0.289      0.773    -386.914     287.445\ncom_stmt        -0.5115      0.402     -1.273      0.203      -1.299       0.276\npos_stmt        52.2831    172.033      0.304      0.761    -284.895     389.461\nneg_stmt        45.5277    171.714      0.265      0.791    -291.025     382.080\nneu_stmt        51.7200    172.007      0.301      0.764    -285.407     388.847\nword_count      -0.0124      0.078     -0.160      0.873      -0.165       0.140\nunique_count    -0.0650      0.178     -0.366      0.714      -0.413       0.283\nemoji_count      2.3903      3.062      0.781      0.435      -3.611       8.392\nqe_mark         -3.2957      1.526     -2.160      0.031      -6.287      -0.305\nex_mark          0.2666      0.783      0.341      0.733      -1.268       1.801\nel_mark         -0.9765      1.292     -0.756      0.450      -3.508       1.555\nupper_count     -0.1537      0.367     -0.418      0.676      -0.874       0.567\nurl_count       -1.4762      5.989     -0.246      0.805     -13.214      10.261\nimg_count        0.6401      8.641      0.074      0.941     -16.296      17.576\n================================================================================\n\"\"\"",
      "text/html": "<table class=\"simpletable\">\n<caption>Logit Regression Results</caption>\n<tr>\n  <th>Dep. Variable:</th>         <td>is_J</td>       <th>  No. Observations:  </th>  <td>   561</td> \n</tr>\n<tr>\n  <th>Model:</th>                 <td>Logit</td>      <th>  Df Residuals:      </th>  <td>   547</td> \n</tr>\n<tr>\n  <th>Method:</th>                 <td>MLE</td>       <th>  Df Model:          </th>  <td>    13</td> \n</tr>\n<tr>\n  <th>Date:</th>            <td>Fri, 09 Dec 2022</td> <th>  Pseudo R-squ.:     </th>  <td>0.01403</td>\n</tr>\n<tr>\n  <th>Time:</th>                <td>14:42:02</td>     <th>  Log-Likelihood:    </th> <td> -383.40</td>\n</tr>\n<tr>\n  <th>converged:</th>             <td>True</td>       <th>  LL-Null:           </th> <td> -388.85</td>\n</tr>\n<tr>\n  <th>Covariance Type:</th>     <td>nonrobust</td>    <th>  LLR p-value:       </th>  <td>0.6183</td> \n</tr>\n</table>\n<table class=\"simpletable\">\n<tr>\n        <td></td>          <th>coef</th>     <th>std err</th>      <th>z</th>      <th>P>|z|</th>  <th>[0.025</th>    <th>0.975]</th>  \n</tr>\n<tr>\n  <th>Intercept</th>    <td>  -49.7347</td> <td>  172.034</td> <td>   -0.289</td> <td> 0.773</td> <td> -386.914</td> <td>  287.445</td>\n</tr>\n<tr>\n  <th>com_stmt</th>     <td>   -0.5115</td> <td>    0.402</td> <td>   -1.273</td> <td> 0.203</td> <td>   -1.299</td> <td>    0.276</td>\n</tr>\n<tr>\n  <th>pos_stmt</th>     <td>   52.2831</td> <td>  172.033</td> <td>    0.304</td> <td> 0.761</td> <td> -284.895</td> <td>  389.461</td>\n</tr>\n<tr>\n  <th>neg_stmt</th>     <td>   45.5277</td> <td>  171.714</td> <td>    0.265</td> <td> 0.791</td> <td> -291.025</td> <td>  382.080</td>\n</tr>\n<tr>\n  <th>neu_stmt</th>     <td>   51.7200</td> <td>  172.007</td> <td>    0.301</td> <td> 0.764</td> <td> -285.407</td> <td>  388.847</td>\n</tr>\n<tr>\n  <th>word_count</th>   <td>   -0.0124</td> <td>    0.078</td> <td>   -0.160</td> <td> 0.873</td> <td>   -0.165</td> <td>    0.140</td>\n</tr>\n<tr>\n  <th>unique_count</th> <td>   -0.0650</td> <td>    0.178</td> <td>   -0.366</td> <td> 0.714</td> <td>   -0.413</td> <td>    0.283</td>\n</tr>\n<tr>\n  <th>emoji_count</th>  <td>    2.3903</td> <td>    3.062</td> <td>    0.781</td> <td> 0.435</td> <td>   -3.611</td> <td>    8.392</td>\n</tr>\n<tr>\n  <th>qe_mark</th>      <td>   -3.2957</td> <td>    1.526</td> <td>   -2.160</td> <td> 0.031</td> <td>   -6.287</td> <td>   -0.305</td>\n</tr>\n<tr>\n  <th>ex_mark</th>      <td>    0.2666</td> <td>    0.783</td> <td>    0.341</td> <td> 0.733</td> <td>   -1.268</td> <td>    1.801</td>\n</tr>\n<tr>\n  <th>el_mark</th>      <td>   -0.9765</td> <td>    1.292</td> <td>   -0.756</td> <td> 0.450</td> <td>   -3.508</td> <td>    1.555</td>\n</tr>\n<tr>\n  <th>upper_count</th>  <td>   -0.1537</td> <td>    0.367</td> <td>   -0.418</td> <td> 0.676</td> <td>   -0.874</td> <td>    0.567</td>\n</tr>\n<tr>\n  <th>url_count</th>    <td>   -1.4762</td> <td>    5.989</td> <td>   -0.246</td> <td> 0.805</td> <td>  -13.214</td> <td>   10.261</td>\n</tr>\n<tr>\n  <th>img_count</th>    <td>    0.6401</td> <td>    8.641</td> <td>    0.074</td> <td> 0.941</td> <td>  -16.296</td> <td>   17.576</td>\n</tr>\n</table>"
     },
     "execution_count": 8,
     "metadata": {},
     "output_type": "execute_result"
    }
   ],
   "source": [
    "#logreg model summary\n",
    "logreg.summary()"
   ],
   "metadata": {
    "collapsed": false
   }
  },
  {
   "cell_type": "code",
   "execution_count": 10,
   "outputs": [
    {
     "name": "stdout",
     "output_type": "stream",
     "text": [
      "Confusion Matrix : \n",
      " [[12 20]\n",
      " [14 17]]\n",
      "Logistic Regression Test AUC: 0.4829\n"
     ]
    }
   ],
   "source": [
    "#logreg auc\n",
    "from sklearn.metrics import confusion_matrix\n",
    "from sklearn.metrics import roc_curve, auc\n",
    "cm = confusion_matrix(y_test, y_pred)\n",
    "print (\"Confusion Matrix : \\n\", cm)\n",
    "fpr, tpr, _ = roc_curve(y_test, y_prob)\n",
    "roc_auc = auc(fpr, tpr)\n",
    "model_logreg_auc = roc_auc#Calculate logistic AUC\n",
    "print(f'Logistic Regression Test AUC: {model_logreg_auc:.4f}')"
   ],
   "metadata": {
    "collapsed": false
   }
  },
  {
   "cell_type": "markdown",
   "source": [
    "## 2. Simple Random Forest Model/ Grid Search 5Fold Cross-Validation Random Forest Model\n",
    "- The simple random forest model (no hyperparameter tuning) yields a 0.6825 accuracy which outperforms the logistic regression model. We further apply grid search with 5Fold cross-validation to find the optimal max_feature. The accuracy is gradually increasing between 1-50 max_feature, and yields a highest accuracy 0.6984 with max_feature=70."
   ],
   "metadata": {
    "collapsed": false
   }
  },
  {
   "cell_type": "code",
   "execution_count": 11,
   "outputs": [
    {
     "name": "stdout",
     "output_type": "stream",
     "text": [
      "Random Forest Test Accuracy: 0.6825\n"
     ]
    }
   ],
   "source": [
    "#Simple Version Random Forest\n",
    "from sklearn.ensemble import RandomForestClassifier\n",
    "\n",
    "rf = RandomForestClassifier(random_state=88).fit(X_train_2, y_train)\n",
    "y_pred_rf = rf.predict(X_test_2)\n",
    "model_rf_acc = sum(y_pred_rf == y_test) / len(y_test) #TODO: calculate random forest accuracy\n",
    "print(f'Random Forest Test Accuracy: {model_rf_acc:.4f}')"
   ],
   "metadata": {
    "collapsed": false
   }
  },
  {
   "cell_type": "code",
   "execution_count": 17,
   "outputs": [
    {
     "name": "stdout",
     "output_type": "stream",
     "text": [
      "Fitting 5 folds for each of 100 candidates, totalling 500 fits\n",
      "CV Random Forest Test Accuracy: 0.6984\n"
     ]
    }
   ],
   "source": [
    "#Grid-Search 5Fold-Cross-validation Random Forest to find best max_feature\n",
    "grid_values = {'max_features': np.linspace(1,100, 100, dtype='int32'),\n",
    "               'random_state': [88]}\n",
    "rf2 = RandomForestClassifier(random_state=88)\n",
    "rf2_cv = GridSearchCV(rf2, param_grid=grid_values, scoring='accuracy', cv=cv, verbose=1)\n",
    "rf2_cv.fit(X_train_2, y_train)\n",
    "y_pred_rf2 = rf2_cv.best_estimator_.predict(X_test_2)\n",
    "model_rf2_acc = sum(y_pred_rf2 == y_test) / len(y_test)\n",
    "print(f'CV Random Forest Test Accuracy: {model_rf2_acc:.4f}')"
   ],
   "metadata": {
    "collapsed": false
   }
  },
  {
   "cell_type": "code",
   "execution_count": 21,
   "outputs": [
    {
     "data": {
      "text/plain": "RandomForestClassifier(max_features=70, random_state=88)"
     },
     "execution_count": 21,
     "metadata": {},
     "output_type": "execute_result"
    }
   ],
   "source": [
    "rf2_cv.best_estimator_"
   ],
   "metadata": {
    "collapsed": false
   }
  },
  {
   "cell_type": "code",
   "execution_count": 23,
   "outputs": [
    {
     "data": {
      "text/plain": "    mean_fit_time  std_fit_time  mean_score_time  std_score_time  \\\n0        0.093177      0.004543         0.012600        0.000406   \n1        0.094804      0.006327         0.012417        0.000478   \n2        0.103393      0.014739         0.012301        0.000264   \n3        0.102124      0.001349         0.012526        0.000316   \n4        0.116435      0.015499         0.016702        0.006672   \n..            ...           ...              ...             ...   \n95       0.280257      0.002977         0.011208        0.000048   \n96       0.281463      0.003462         0.011233        0.000119   \n97       0.324138      0.025484         0.011867        0.000283   \n98       0.284474      0.003494         0.011150        0.000086   \n99       0.294631      0.009858         0.011404        0.000280   \n\n   param_max_features param_random_state  \\\n0                   1                 88   \n1                   2                 88   \n2                   3                 88   \n3                   4                 88   \n4                   5                 88   \n..                ...                ...   \n95                 96                 88   \n96                 97                 88   \n97                 98                 88   \n98                 99                 88   \n99                100                 88   \n\n                                       params  split0_test_score  \\\n0     {'max_features': 1, 'random_state': 88}           0.548673   \n1     {'max_features': 2, 'random_state': 88}           0.566372   \n2     {'max_features': 3, 'random_state': 88}           0.539823   \n3     {'max_features': 4, 'random_state': 88}           0.619469   \n4     {'max_features': 5, 'random_state': 88}           0.530973   \n..                                        ...                ...   \n95   {'max_features': 96, 'random_state': 88}           0.663717   \n96   {'max_features': 97, 'random_state': 88}           0.734513   \n97   {'max_features': 98, 'random_state': 88}           0.690265   \n98   {'max_features': 99, 'random_state': 88}           0.734513   \n99  {'max_features': 100, 'random_state': 88}           0.637168   \n\n    split1_test_score  split2_test_score  split3_test_score  \\\n0            0.508929           0.526786           0.562500   \n1            0.508929           0.580357           0.571429   \n2            0.535714           0.580357           0.500000   \n3            0.508929           0.562500           0.464286   \n4            0.580357           0.526786           0.526786   \n..                ...                ...                ...   \n95           0.660714           0.660714           0.642857   \n96           0.633929           0.678571           0.642857   \n97           0.651786           0.633929           0.616071   \n98           0.678571           0.714286           0.660714   \n99           0.741071           0.616071           0.580357   \n\n    split4_test_score  mean_test_score  std_test_score  rank_test_score  \n0            0.607143         0.550806        0.033603               96  \n1            0.508929         0.547203        0.031570               97  \n2            0.678571         0.566893        0.061373               91  \n3            0.625000         0.556037        0.062384               95  \n4            0.535714         0.540123        0.020385               99  \n..                ...              ...             ...              ...  \n95           0.633929         0.652386        0.011820               32  \n96           0.598214         0.657617        0.046173               26  \n97           0.678571         0.654125        0.027442               30  \n98           0.660714         0.689760        0.029722                2  \n99           0.607143         0.636362        0.055438               49  \n\n[100 rows x 15 columns]",
      "text/html": "<div>\n<style scoped>\n    .dataframe tbody tr th:only-of-type {\n        vertical-align: middle;\n    }\n\n    .dataframe tbody tr th {\n        vertical-align: top;\n    }\n\n    .dataframe thead th {\n        text-align: right;\n    }\n</style>\n<table border=\"1\" class=\"dataframe\">\n  <thead>\n    <tr style=\"text-align: right;\">\n      <th></th>\n      <th>mean_fit_time</th>\n      <th>std_fit_time</th>\n      <th>mean_score_time</th>\n      <th>std_score_time</th>\n      <th>param_max_features</th>\n      <th>param_random_state</th>\n      <th>params</th>\n      <th>split0_test_score</th>\n      <th>split1_test_score</th>\n      <th>split2_test_score</th>\n      <th>split3_test_score</th>\n      <th>split4_test_score</th>\n      <th>mean_test_score</th>\n      <th>std_test_score</th>\n      <th>rank_test_score</th>\n    </tr>\n  </thead>\n  <tbody>\n    <tr>\n      <th>0</th>\n      <td>0.093177</td>\n      <td>0.004543</td>\n      <td>0.012600</td>\n      <td>0.000406</td>\n      <td>1</td>\n      <td>88</td>\n      <td>{'max_features': 1, 'random_state': 88}</td>\n      <td>0.548673</td>\n      <td>0.508929</td>\n      <td>0.526786</td>\n      <td>0.562500</td>\n      <td>0.607143</td>\n      <td>0.550806</td>\n      <td>0.033603</td>\n      <td>96</td>\n    </tr>\n    <tr>\n      <th>1</th>\n      <td>0.094804</td>\n      <td>0.006327</td>\n      <td>0.012417</td>\n      <td>0.000478</td>\n      <td>2</td>\n      <td>88</td>\n      <td>{'max_features': 2, 'random_state': 88}</td>\n      <td>0.566372</td>\n      <td>0.508929</td>\n      <td>0.580357</td>\n      <td>0.571429</td>\n      <td>0.508929</td>\n      <td>0.547203</td>\n      <td>0.031570</td>\n      <td>97</td>\n    </tr>\n    <tr>\n      <th>2</th>\n      <td>0.103393</td>\n      <td>0.014739</td>\n      <td>0.012301</td>\n      <td>0.000264</td>\n      <td>3</td>\n      <td>88</td>\n      <td>{'max_features': 3, 'random_state': 88}</td>\n      <td>0.539823</td>\n      <td>0.535714</td>\n      <td>0.580357</td>\n      <td>0.500000</td>\n      <td>0.678571</td>\n      <td>0.566893</td>\n      <td>0.061373</td>\n      <td>91</td>\n    </tr>\n    <tr>\n      <th>3</th>\n      <td>0.102124</td>\n      <td>0.001349</td>\n      <td>0.012526</td>\n      <td>0.000316</td>\n      <td>4</td>\n      <td>88</td>\n      <td>{'max_features': 4, 'random_state': 88}</td>\n      <td>0.619469</td>\n      <td>0.508929</td>\n      <td>0.562500</td>\n      <td>0.464286</td>\n      <td>0.625000</td>\n      <td>0.556037</td>\n      <td>0.062384</td>\n      <td>95</td>\n    </tr>\n    <tr>\n      <th>4</th>\n      <td>0.116435</td>\n      <td>0.015499</td>\n      <td>0.016702</td>\n      <td>0.006672</td>\n      <td>5</td>\n      <td>88</td>\n      <td>{'max_features': 5, 'random_state': 88}</td>\n      <td>0.530973</td>\n      <td>0.580357</td>\n      <td>0.526786</td>\n      <td>0.526786</td>\n      <td>0.535714</td>\n      <td>0.540123</td>\n      <td>0.020385</td>\n      <td>99</td>\n    </tr>\n    <tr>\n      <th>...</th>\n      <td>...</td>\n      <td>...</td>\n      <td>...</td>\n      <td>...</td>\n      <td>...</td>\n      <td>...</td>\n      <td>...</td>\n      <td>...</td>\n      <td>...</td>\n      <td>...</td>\n      <td>...</td>\n      <td>...</td>\n      <td>...</td>\n      <td>...</td>\n      <td>...</td>\n    </tr>\n    <tr>\n      <th>95</th>\n      <td>0.280257</td>\n      <td>0.002977</td>\n      <td>0.011208</td>\n      <td>0.000048</td>\n      <td>96</td>\n      <td>88</td>\n      <td>{'max_features': 96, 'random_state': 88}</td>\n      <td>0.663717</td>\n      <td>0.660714</td>\n      <td>0.660714</td>\n      <td>0.642857</td>\n      <td>0.633929</td>\n      <td>0.652386</td>\n      <td>0.011820</td>\n      <td>32</td>\n    </tr>\n    <tr>\n      <th>96</th>\n      <td>0.281463</td>\n      <td>0.003462</td>\n      <td>0.011233</td>\n      <td>0.000119</td>\n      <td>97</td>\n      <td>88</td>\n      <td>{'max_features': 97, 'random_state': 88}</td>\n      <td>0.734513</td>\n      <td>0.633929</td>\n      <td>0.678571</td>\n      <td>0.642857</td>\n      <td>0.598214</td>\n      <td>0.657617</td>\n      <td>0.046173</td>\n      <td>26</td>\n    </tr>\n    <tr>\n      <th>97</th>\n      <td>0.324138</td>\n      <td>0.025484</td>\n      <td>0.011867</td>\n      <td>0.000283</td>\n      <td>98</td>\n      <td>88</td>\n      <td>{'max_features': 98, 'random_state': 88}</td>\n      <td>0.690265</td>\n      <td>0.651786</td>\n      <td>0.633929</td>\n      <td>0.616071</td>\n      <td>0.678571</td>\n      <td>0.654125</td>\n      <td>0.027442</td>\n      <td>30</td>\n    </tr>\n    <tr>\n      <th>98</th>\n      <td>0.284474</td>\n      <td>0.003494</td>\n      <td>0.011150</td>\n      <td>0.000086</td>\n      <td>99</td>\n      <td>88</td>\n      <td>{'max_features': 99, 'random_state': 88}</td>\n      <td>0.734513</td>\n      <td>0.678571</td>\n      <td>0.714286</td>\n      <td>0.660714</td>\n      <td>0.660714</td>\n      <td>0.689760</td>\n      <td>0.029722</td>\n      <td>2</td>\n    </tr>\n    <tr>\n      <th>99</th>\n      <td>0.294631</td>\n      <td>0.009858</td>\n      <td>0.011404</td>\n      <td>0.000280</td>\n      <td>100</td>\n      <td>88</td>\n      <td>{'max_features': 100, 'random_state': 88}</td>\n      <td>0.637168</td>\n      <td>0.741071</td>\n      <td>0.616071</td>\n      <td>0.580357</td>\n      <td>0.607143</td>\n      <td>0.636362</td>\n      <td>0.055438</td>\n      <td>49</td>\n    </tr>\n  </tbody>\n</table>\n<p>100 rows × 15 columns</p>\n</div>"
     },
     "execution_count": 23,
     "metadata": {},
     "output_type": "execute_result"
    }
   ],
   "source": [
    "pd.DataFrame(rf2_cv.cv_results_)"
   ],
   "metadata": {
    "collapsed": false
   }
  },
  {
   "cell_type": "code",
   "execution_count": 19,
   "outputs": [
    {
     "data": {
      "text/plain": "                    mean_test_score\nparam_max_features                 \n1                          0.550806\n2                          0.547203\n3                          0.566893\n4                          0.556037\n5                          0.540123\n...                             ...\n96                         0.652386\n97                         0.657617\n98                         0.654125\n99                         0.689760\n100                        0.636362\n\n[100 rows x 1 columns]",
      "text/html": "<div>\n<style scoped>\n    .dataframe tbody tr th:only-of-type {\n        vertical-align: middle;\n    }\n\n    .dataframe tbody tr th {\n        vertical-align: top;\n    }\n\n    .dataframe thead th {\n        text-align: right;\n    }\n</style>\n<table border=\"1\" class=\"dataframe\">\n  <thead>\n    <tr style=\"text-align: right;\">\n      <th></th>\n      <th>mean_test_score</th>\n    </tr>\n    <tr>\n      <th>param_max_features</th>\n      <th></th>\n    </tr>\n  </thead>\n  <tbody>\n    <tr>\n      <th>1</th>\n      <td>0.550806</td>\n    </tr>\n    <tr>\n      <th>2</th>\n      <td>0.547203</td>\n    </tr>\n    <tr>\n      <th>3</th>\n      <td>0.566893</td>\n    </tr>\n    <tr>\n      <th>4</th>\n      <td>0.556037</td>\n    </tr>\n    <tr>\n      <th>5</th>\n      <td>0.540123</td>\n    </tr>\n    <tr>\n      <th>...</th>\n      <td>...</td>\n    </tr>\n    <tr>\n      <th>96</th>\n      <td>0.652386</td>\n    </tr>\n    <tr>\n      <th>97</th>\n      <td>0.657617</td>\n    </tr>\n    <tr>\n      <th>98</th>\n      <td>0.654125</td>\n    </tr>\n    <tr>\n      <th>99</th>\n      <td>0.689760</td>\n    </tr>\n    <tr>\n      <th>100</th>\n      <td>0.636362</td>\n    </tr>\n  </tbody>\n</table>\n<p>100 rows × 1 columns</p>\n</div>"
     },
     "execution_count": 19,
     "metadata": {},
     "output_type": "execute_result"
    }
   ],
   "source": [
    "rf2_df = pd.DataFrame(rf2_cv.cv_results_)[['param_max_features', 'mean_test_score']]\n",
    "rf2_df = rf2_df.set_index('param_max_features')\n",
    "rf2_df"
   ],
   "metadata": {
    "collapsed": false
   }
  },
  {
   "cell_type": "code",
   "execution_count": 20,
   "outputs": [
    {
     "data": {
      "text/plain": "<AxesSubplot:xlabel='param_max_features'>"
     },
     "execution_count": 20,
     "metadata": {},
     "output_type": "execute_result"
    },
    {
     "data": {
      "text/plain": "<Figure size 432x288 with 1 Axes>",
      "image/png": "[encoded data removed]"
     },
     "metadata": {},
     "output_type": "display_data"
    }
   ],
   "source": [
    "#max_features & acc lineplot, higher the number of features, higher accuracy\n",
    "sns.lineplot(data=rf2_df)\n"
   ],
   "metadata": {
    "collapsed": false
   }
  },
  {
   "cell_type": "markdown",
   "source": [
    "## 3. Gradient Boosting Model"
   ],
   "metadata": {
    "collapsed": false
   }
  },
  {
   "cell_type": "code",
   "execution_count": 24,
   "outputs": [
    {
     "name": "stdout",
     "output_type": "stream",
     "text": [
      "GBC Test Accuracy: 0.7460\n"
     ]
    }
   ],
   "source": [
    "#Gradient Boosting Classifier (got high acc, skip grid-search)\n",
    "from sklearn.ensemble import GradientBoostingClassifier\n",
    "gbc = GradientBoostingClassifier(n_estimators=3300, max_leaf_nodes=10,\n",
    "                                 random_state=88).fit(X_train_2, y_train)\n",
    "y_pred_gbc = gbc.predict(X_test_2)\n",
    "model_gbc_acc = sum(y_pred_gbc == y_test) / len(y_test)# Calculate boosting accuracy\n",
    "print(f'GBC Test Accuracy: {model_gbc_acc:.4f}')"
   ],
   "metadata": {
    "collapsed": false
   }
  },
  {
   "cell_type": "markdown",
   "source": [
    "## 4. Adaboost Model\n"
   ],
   "metadata": {
    "collapsed": false
   }
  },
  {
   "cell_type": "code",
   "execution_count": 25,
   "outputs": [
    {
     "name": "stdout",
     "output_type": "stream",
     "text": [
      "ABC Test Accuracy: 0.6825\n"
     ]
    }
   ],
   "source": [
    "#Adaboost Classifier (simple version, grid-search cv not runnable)\n",
    "from sklearn.ensemble import AdaBoostClassifier\n",
    "abc = AdaBoostClassifier(random_state=88).fit(X_train_2, y_train)\n",
    "#abc_grid = {'base_estimator' : ['gini', 'entropy'],\n",
    "#            'algorithm' : ['SAMME', 'SAMME.R'],\n",
    "#            'n_estimators' : [1],\n",
    "#            'learning_rate' : np.linspace(0.1, 1, 10)\n",
    "#            }\n",
    "#abc_search = GridSearchCV(abc, param_grid=abc_grid, cv=cv, scoring='accuracy', n_jobs=-1).fit(X_train_2, y_train)\n",
    "y_pred_abc = abc.predict(X_test_2)\n",
    "model_abc_acc = sum(y_pred_abc == y_test) / len(y_test)\n",
    "print(f'ABC Test Accuracy: {model_abc_acc:.4f}')\n",
    "#print(abc_search.best_score_)\n",
    "#abc_best = abc_search.best_estimator_"
   ],
   "metadata": {
    "collapsed": false
   }
  },
  {
   "cell_type": "markdown",
   "source": [
    "## 5. Grid-Search 5-Cross-Validation Stocastic Gradient Descent Model"
   ],
   "metadata": {
    "collapsed": false
   }
  },
  {
   "cell_type": "code",
   "execution_count": 26,
   "outputs": [
    {
     "name": "stdout",
     "output_type": "stream",
     "text": [
      "0.7379582806573957\n"
     ]
    }
   ],
   "source": [
    "##Grid-Search 5-Cross-Validation Stochastic Gradient Descent Classifier\n",
    "from sklearn.linear_model import SGDClassifier\n",
    "sgdc = SGDClassifier(random_state=88)\n",
    "sgdc_grid = {\"loss\": [\"hinge\"],\n",
    "             \"penalty\": [\"l1\", \"l2\"],\n",
    "             \"alpha\": np.linspace(0.0001,0.0005,5)}\n",
    "sgdc_search = GridSearchCV(sgdc, param_grid=sgdc_grid, cv=cv, scoring='accuracy', n_jobs=-1).fit(X_train_2, y_train)\n",
    "#y_pred_sgdc = sgdc.predict(X_test_2)\n",
    "#model_sgdc_acc = sum(y_pred_sgdc == y_test) / len(y_test)\n",
    "print(sgdc_search.best_score_)\n",
    "sgdc_best = sgdc_search.best_estimator_"
   ],
   "metadata": {
    "collapsed": false
   }
  },
  {
   "cell_type": "markdown",
   "source": [
    "## 6. Simple Support Vector Classifier / Grid-Search 5Fold Cross-Validation Suppoet Vector Model\n"
   ],
   "metadata": {
    "collapsed": false
   }
  },
  {
   "cell_type": "code",
   "execution_count": 27,
   "outputs": [
    {
     "name": "stdout",
     "output_type": "stream",
     "text": [
      "SVC Test Accuracy: 0.4921\n"
     ]
    }
   ],
   "source": [
    "#Support Vector Classifier (simple version -- no grid search / no cv)\n",
    "from sklearn.svm import SVC\n",
    "svc = SVC(C=0.1).fit(X_train_2, y_train)\n",
    "y_pred_svc = svc.predict(X_test_2)\n",
    "model_svc_acc = sum(y_pred_svc == y_test) / len(y_test)\n",
    "print(f'SVC Test Accuracy: {model_svc_acc:.4f}')"
   ],
   "metadata": {
    "collapsed": false
   }
  },
  {
   "cell_type": "markdown",
   "source": [],
   "metadata": {
    "collapsed": false
   }
  },
  {
   "cell_type": "code",
   "execution_count": 39,
   "outputs": [
    {
     "name": "stdout",
     "output_type": "stream",
     "text": [
      "0.4706226295828066\n"
     ]
    }
   ],
   "source": [
    "#Grid-Search 5-Cross-Validation Support Vector Classifier (took too long to run)\n",
    "from sklearn.svm import SVC\n",
    "svc = SVC(random_state=88, probability=True)\n",
    "svc_grid = {\"kernel\": [\"rbf\"],\n",
    "            \"gamma\": [0.1, 0.2, 0.3, 0.4, 0.5],\n",
    "            \"C\" : [0.1, 0.2, 0.3, 0.4, 0.5]\n",
    "             }\n",
    "svc_search = GridSearchCV(svc, param_grid=svc_grid, cv=cv, scoring='accuracy', n_jobs=-1).fit(X_train_2, y_train)\n",
    "#y_pred_sgdc = sgdc.predict(X_test_2)\n",
    "#model_sgdc_acc = sum(y_pred_sgdc == y_test) / len(y_test)\n",
    "print(svc_search.best_score_)\n",
    "svc_best = svc_search.best_estimator_"
   ],
   "metadata": {
    "collapsed": false
   }
  },
  {
   "cell_type": "markdown",
   "source": [
    "## 7. Grid-Search 5Fold Cross-Validation K-Nearest Neighbors Model"
   ],
   "metadata": {
    "collapsed": false
   }
  },
  {
   "cell_type": "code",
   "execution_count": 34,
   "outputs": [],
   "source": [
    "from sklearn.neighbors import KNeighborsClassifier\n",
    "error_rate = []\n",
    "#Elbow method to find optimal k\n",
    "for i in range(1,20):\n",
    "    knn = KNeighborsClassifier(n_neighbors=i)\n",
    "    knn.fit(X_train_2,y_train)\n",
    "    pred_i = knn.predict(X_test_2)\n",
    "    error_rate.append(np.mean(pred_i != y_test))"
   ],
   "metadata": {
    "collapsed": false
   }
  },
  {
   "cell_type": "code",
   "execution_count": 35,
   "outputs": [
    {
     "data": {
      "text/plain": "Text(0, 0.5, 'Error Rate')"
     },
     "execution_count": 35,
     "metadata": {},
     "output_type": "execute_result"
    },
    {
     "data": {
      "text/plain": "<Figure size 720x432 with 1 Axes>",
      "image/png": "[encoded data removed]"
     },
     "metadata": {},
     "output_type": "display_data"
    }
   ],
   "source": [
    "plt.figure(figsize=(10,6))\n",
    "plt.plot(range(1,20),error_rate,color='blue', linestyle ='dashed', marker='o',markerfacecolor='red', markersize=10)\n",
    "plt.title('Error Rate vs. K Value')\n",
    "plt.xlabel('K')\n",
    "plt.ylabel('Error Rate')\n",
    "#The plot shows the optimal n_neighbors=9"
   ],
   "metadata": {
    "collapsed": false
   }
  },
  {
   "cell_type": "code",
   "execution_count": 36,
   "outputs": [
    {
     "name": "stdout",
     "output_type": "stream",
     "text": [
      "0.6666403286978507\n"
     ]
    }
   ],
   "source": [
    "#Grid-Search 5Fold-Cross-Validation K-Nearest Neighbors Classifier\n",
    "from sklearn.neighbors import KNeighborsClassifier\n",
    "knn = KNeighborsClassifier(n_neighbors=9)\n",
    "knn_grid = {'algorithm' : ['ball_tree', 'kd_tree', 'brute', 'auto'],\n",
    "            'leaf_size' : [5, 10, 20, 30],\n",
    "            }\n",
    "knn_search = GridSearchCV(knn, param_grid=knn_grid, cv=cv, scoring='accuracy', n_jobs=-1).fit(X_train_2, y_train)\n",
    "print(knn_search.best_score_)\n",
    "knn_best = knn_search.best_estimator_"
   ],
   "metadata": {
    "collapsed": false
   }
  },
  {
   "cell_type": "markdown",
   "source": [
    "## 8. Simple LDA Model"
   ],
   "metadata": {
    "collapsed": false
   }
  },
  {
   "cell_type": "code",
   "execution_count": 37,
   "outputs": [
    {
     "name": "stdout",
     "output_type": "stream",
     "text": [
      "LDA Test Accuracy: 0.3016\n"
     ]
    }
   ],
   "source": [
    "#LDA Classifier with all 16 types\n",
    "from sklearn.discriminant_analysis import LinearDiscriminantAnalysis\n",
    "from sklearn.metrics import accuracy_score\n",
    "y_train_2, y_test_2 = train['type'], test['type']\n",
    "lda = LinearDiscriminantAnalysis().fit(X_train_2, y_train_2)\n",
    "model_lda_acc = lda.score(X_test_2, y_test_2)# Calculate LDA accuracy\n",
    "print(f'LDA Test Accuracy: {model_lda_acc:.4f}')"
   ],
   "metadata": {
    "collapsed": false
   }
  },
  {
   "cell_type": "markdown",
   "source": [
    "## Model Summary"
   ],
   "metadata": {
    "collapsed": false
   }
  },
  {
   "cell_type": "code",
   "execution_count": 40,
   "outputs": [],
   "source": [
    "models_result = pd.DataFrame({\n",
    "    'Model':['Logistic Regression', 'Simple Random Forest', 'Random Forest', 'Simple Gradient Boosting', 'Simple AdaBoost', 'Stochastic Gradient Descent', 'Simple Support Vector Classifier','Support vector Classifier', 'K-Nearest Neighbors', 'LDA-16types'],\n",
    "    'Accuracy':[model_logreg_acc,  model_rf_acc, model_rf2_acc, model_gbc_acc, model_abc_acc, sgdc_search.best_score_, model_svc_acc, svc_search.best_score_, knn_search.best_score_, model_lda_acc]})"
   ],
   "metadata": {
    "collapsed": false
   }
  },
  {
   "cell_type": "code",
   "execution_count": 41,
   "outputs": [
    {
     "data": {
      "text/plain": "                              Model  Accuracy\n0               Logistic Regression  0.460317\n1              Simple Random Forest  0.682540\n2                     Random Forest  0.698413\n3          Simple Gradient Boosting  0.746032\n4                   Simple AdaBoost  0.682540\n5       Stochastic Gradient Descent  0.737958\n6  Simple Support Vector Classifier  0.492063\n7         Support vector Classifier  0.470623\n8               K-Nearest Neighbors  0.666640\n9                       LDA-16types  0.301587",
      "text/html": "<div>\n<style scoped>\n    .dataframe tbody tr th:only-of-type {\n        vertical-align: middle;\n    }\n\n    .dataframe tbody tr th {\n        vertical-align: top;\n    }\n\n    .dataframe thead th {\n        text-align: right;\n    }\n</style>\n<table border=\"1\" class=\"dataframe\">\n  <thead>\n    <tr style=\"text-align: right;\">\n      <th></th>\n      <th>Model</th>\n      <th>Accuracy</th>\n    </tr>\n  </thead>\n  <tbody>\n    <tr>\n      <th>0</th>\n      <td>Logistic Regression</td>\n      <td>0.460317</td>\n    </tr>\n    <tr>\n      <th>1</th>\n      <td>Simple Random Forest</td>\n      <td>0.682540</td>\n    </tr>\n    <tr>\n      <th>2</th>\n      <td>Random Forest</td>\n      <td>0.698413</td>\n    </tr>\n    <tr>\n      <th>3</th>\n      <td>Simple Gradient Boosting</td>\n      <td>0.746032</td>\n    </tr>\n    <tr>\n      <th>4</th>\n      <td>Simple AdaBoost</td>\n      <td>0.682540</td>\n    </tr>\n    <tr>\n      <th>5</th>\n      <td>Stochastic Gradient Descent</td>\n      <td>0.737958</td>\n    </tr>\n    <tr>\n      <th>6</th>\n      <td>Simple Support Vector Classifier</td>\n      <td>0.492063</td>\n    </tr>\n    <tr>\n      <th>7</th>\n      <td>Support vector Classifier</td>\n      <td>0.470623</td>\n    </tr>\n    <tr>\n      <th>8</th>\n      <td>K-Nearest Neighbors</td>\n      <td>0.666640</td>\n    </tr>\n    <tr>\n      <th>9</th>\n      <td>LDA-16types</td>\n      <td>0.301587</td>\n    </tr>\n  </tbody>\n</table>\n</div>"
     },
     "execution_count": 41,
     "metadata": {},
     "output_type": "execute_result"
    }
   ],
   "source": [
    "models_result"
   ],
   "metadata": {
    "collapsed": false
   }
  }
 ],
 "metadata": {
  "kernelspec": {
   "display_name": "Python 3",
   "language": "python",
   "name": "python3"
  },
  "language_info": {
   "codemirror_mode": {
    "name": "ipython",
    "version": 2
   },
   "file_extension": ".py",
   "mimetype": "text/x-python",
   "name": "python",
   "nbconvert_exporter": "python",
   "pygments_lexer": "ipython2",
   "version": "2.7.6"
  }
 },
 "nbformat": 4,
 "nbformat_minor": 0
}

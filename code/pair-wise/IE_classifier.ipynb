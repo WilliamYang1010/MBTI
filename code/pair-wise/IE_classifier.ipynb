{
 "nbformat": 4,
 "nbformat_minor": 0,
 "metadata": {
  "colab": {
   "provenance": []
  },
  "kernelspec": {
   "name": "python3",
   "display_name": "Python 3"
  },
  "language_info": {
   "name": "python"
  }
 },
 "cells": [
  {
   "cell_type": "code",
   "execution_count": null,
   "outputs": [],
   "source": [
    "import numpy as np\n",
    "import pandas as pd\n",
    "import statsmodels.formula.api as smf\n",
    "import matplotlib.pyplot as plt\n",
    "from sklearn.model_selection import GridSearchCV, KFold\n",
    "from sklearn.tree import DecisionTreeRegressor, DecisionTreeClassifier, plot_tree\n",
    "from sklearn.metrics import confusion_matrix\n",
    "from sklearn.metrics import classification_report\n",
    "from sklearn.linear_model import LogisticRegression, SGDClassifier\n",
    "from sklearn.model_selection import train_test_split\n",
    "from sklearn.svm import SVC, LinearSVC\n",
    "from sklearn.ensemble import RandomForestClassifier, GradientBoostingClassifier, AdaBoostClassifier\n",
    "from xgboost import XGBClassifier\n",
    "import matplotlib.pyplot as plt\n",
    "import seaborn as sns\n",
    "from sklearn.metrics import accuracy_score\n",
    "import warnings\n",
    "warnings.filterwarnings(\"ignore\")\n",
    "data = pd.read_csv(\"../../data/clean/mbti_4.csv\")\n",
    "data.dropna(inplace=True)\n",
    "data"
   ],
   "metadata": {
    "collapsed": false
   }
  },
  {
   "cell_type": "code",
   "execution_count": null,
   "outputs": [],
   "source": [
    "#train / test split and feature / target selection\n",
    "train, test = train_test_split(data, test_size = 0.1, random_state=88, stratify=data.type)\n",
    "features = ['com_stmt', 'pos_stmt', 'neg_stmt', 'neu_stmt', 'word_count',\n",
    "            'unique_count', 'emoji_count', 'qe_mark', 'ex_mark', 'el_mark',\n",
    "            'upper_count', 'url_count', 'img_count']\n",
    "X_train, y_train = train[features], train['is_E']\n",
    "X_test, y_test = test[features], test['is_E']\n",
    "X_train_2, X_test_2 = train.iloc[:, 7:], test.iloc[:, 7:]\n",
    "cv = KFold(n_splits=5,random_state=88,shuffle=True)"
   ],
   "metadata": {
    "collapsed": false
   }
  },
  {
   "cell_type": "markdown",
   "source": [
    "I&E prediction:\n",
    "Simple Support Vector Classifier has the highest accuracy of 0.841270"
   ],
   "metadata": {
    "id": "t5423nWCmD6o"
   }
  },
  {
   "cell_type": "code",
   "source": [
    "#Support Vector Classifier (simple version -- no grid search / no cv)\n",
    "svc = SVC(C=0.1).fit(X_train_2, y_train)\n",
    "y_pred_svc = svc.predict(X_test_2)\n",
    "model_svc_acc = sum(y_pred_svc == y_test) / len(y_test)\n",
    "print(f'SVC Test Accuracy: {model_svc_acc:.4f}')"
   ],
   "metadata": {
    "colab": {
     "base_uri": "https://localhost:8080/",
     "height": 240
    },
    "id": "HknH2lDpmC42",
    "outputId": "d86566f5-09d7-4e0f-bf37-f65d5a48165c"
   },
   "execution_count": 1,
   "outputs": [
    {
     "output_type": "error",
     "ename": "NameError",
     "evalue": "ignored",
     "traceback": [
      "\u001B[0;31m---------------------------------------------------------------------------\u001B[0m",
      "\u001B[0;31mNameError\u001B[0m                                 Traceback (most recent call last)",
      "\u001B[0;32m<ipython-input-1-d16f5bf32b02>\u001B[0m in \u001B[0;36m<module>\u001B[0;34m\u001B[0m\n\u001B[1;32m      1\u001B[0m \u001B[0;31m#Support Vector Classifier (simple version -- no grid search / no cv)\u001B[0m\u001B[0;34m\u001B[0m\u001B[0;34m\u001B[0m\u001B[0;34m\u001B[0m\u001B[0m\n\u001B[1;32m      2\u001B[0m \u001B[0;32mfrom\u001B[0m \u001B[0msklearn\u001B[0m\u001B[0;34m.\u001B[0m\u001B[0msvm\u001B[0m \u001B[0;32mimport\u001B[0m \u001B[0mSVC\u001B[0m\u001B[0;34m\u001B[0m\u001B[0;34m\u001B[0m\u001B[0m\n\u001B[0;32m----> 3\u001B[0;31m \u001B[0msvc\u001B[0m \u001B[0;34m=\u001B[0m \u001B[0mSVC\u001B[0m\u001B[0;34m(\u001B[0m\u001B[0mC\u001B[0m\u001B[0;34m=\u001B[0m\u001B[0;36m0.1\u001B[0m\u001B[0;34m)\u001B[0m\u001B[0;34m.\u001B[0m\u001B[0mfit\u001B[0m\u001B[0;34m(\u001B[0m\u001B[0mX_train_2\u001B[0m\u001B[0;34m,\u001B[0m \u001B[0my_train\u001B[0m\u001B[0;34m)\u001B[0m\u001B[0;34m\u001B[0m\u001B[0;34m\u001B[0m\u001B[0m\n\u001B[0m\u001B[1;32m      4\u001B[0m \u001B[0my_pred_svc\u001B[0m \u001B[0;34m=\u001B[0m \u001B[0msvc\u001B[0m\u001B[0;34m.\u001B[0m\u001B[0mpredict\u001B[0m\u001B[0;34m(\u001B[0m\u001B[0mX_test_2\u001B[0m\u001B[0;34m)\u001B[0m\u001B[0;34m\u001B[0m\u001B[0;34m\u001B[0m\u001B[0m\n\u001B[1;32m      5\u001B[0m \u001B[0mmodel_svc_acc\u001B[0m \u001B[0;34m=\u001B[0m \u001B[0msum\u001B[0m\u001B[0;34m(\u001B[0m\u001B[0my_pred_svc\u001B[0m \u001B[0;34m==\u001B[0m \u001B[0my_test\u001B[0m\u001B[0;34m)\u001B[0m \u001B[0;34m/\u001B[0m \u001B[0mlen\u001B[0m\u001B[0;34m(\u001B[0m\u001B[0my_test\u001B[0m\u001B[0;34m)\u001B[0m\u001B[0;34m\u001B[0m\u001B[0;34m\u001B[0m\u001B[0m\n",
      "\u001B[0;31mNameError\u001B[0m: name 'X_train_2' is not defined"
     ]
    }
   ]
  },
  {
   "cell_type": "markdown",
   "source": [
    "Stochastic Gradient Descent has the second highest accuracy score of 0.791451"
   ],
   "metadata": {
    "collapsed": false
   }
  },
  {
   "cell_type": "code",
   "execution_count": null,
   "outputs": [],
   "source": [
    "##Grid-Search 5-Cross-Validation Stochastic Gradient Descent Classifier\n",
    "sgdc = SGDClassifier(random_state=88)\n",
    "sgdc_grid = {\"loss\": [\"hinge\"],\n",
    "             \"penalty\": [\"l1\", \"l2\"],\n",
    "             \"alpha\": np.linspace(0.0001,0.0005,5)}\n",
    "sgdc_search = GridSearchCV(sgdc, param_grid=sgdc_grid, cv=cv, scoring='accuracy', n_jobs=-1).fit(X_train_2, y_train)\n",
    "#y_pred_sgdc = sgdc.predict(X_test_2)\n",
    "#model_sgdc_acc = sum(y_pred_sgdc == y_test) / len(y_test)\n",
    "print(sgdc_search.best_score_)\n",
    "sgdc_best = sgdc_search.best_estimator_"
   ],
   "metadata": {
    "collapsed": false
   }
  },
  {
   "cell_type": "markdown",
   "source": [
    "Adaboost; accuracy - 0.778"
   ],
   "metadata": {
    "collapsed": false
   }
  },
  {
   "cell_type": "code",
   "execution_count": null,
   "outputs": [],
   "source": [
    "#Adaboost Classifier (simple version, grid-search cv not runnable)\n",
    "abc = AdaBoostClassifier(random_state=88).fit(X_train_2, y_train)\n",
    "#abc_grid = {'base_estimator' : ['gini', 'entropy'],\n",
    "#            'algorithm' : ['SAMME', 'SAMME.R'],\n",
    "#            'n_estimators' : [1],\n",
    "#            'learning_rate' : np.linspace(0.1, 1, 10)\n",
    "#            }\n",
    "#abc_search = GridSearchCV(abc, param_grid=abc_grid, cv=cv, scoring='accuracy', n_jobs=-1).fit(X_train_2, y_train)\n",
    "y_pred_abc = abc.predict(X_test_2)\n",
    "model_abc_acc = sum(y_pred_abc == y_test) / len(y_test)\n",
    "print(f'ABC Test Accuracy: {model_abc_acc:.4f}')\n",
    "#print(abc_search.best_score_)\n",
    "#abc_best = abc_search.best_estimator_"
   ],
   "metadata": {
    "collapsed": false
   }
  },
  {
   "cell_type": "markdown",
   "source": [
    "Random Forest: accuracy 0.778"
   ],
   "metadata": {
    "collapsed": false
   }
  },
  {
   "cell_type": "code",
   "execution_count": null,
   "outputs": [],
   "source": [
    "#Simple Version Random Forest\n",
    "rf = RandomForestClassifier(random_state=88).fit(X_train_2, y_train)\n",
    "y_pred_rf = rf.predict(X_test_2)\n",
    "model_rf_acc = sum(y_pred_rf == y_test) / len(y_test)\n",
    "print(f'Random Forest Test Accuracy: {model_rf_acc:.4f}')"
   ],
   "metadata": {
    "collapsed": false
   }
  }
 ]
}
